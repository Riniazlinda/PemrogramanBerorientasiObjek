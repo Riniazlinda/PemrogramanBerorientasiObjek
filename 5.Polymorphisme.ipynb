{
 "cells": [
  {
   "cell_type": "markdown",
   "metadata": {},
   "source": [
    "POLYMORPHISME\n"
   ]
  },
  {
   "cell_type": "code",
   "execution_count": 1,
   "metadata": {},
   "outputs": [
    {
     "name": "stdout",
     "output_type": "stream",
     "text": [
      "The shark's skeleton is made of cartilage.\n",
      "The clownfish's skeleton is made of bone.\n"
     ]
    }
   ],
   "source": [
    "#POLYMORPHISME\n",
    "class Shark():\n",
    "    def swim(self):\n",
    "        print(\"The shark is swimming.\")\n",
    "    def swim_backwards(self):\n",
    "        print(\"The shark cannot swim backwards, but can sink backwards.\")\n",
    "    def skeleton(self):\n",
    "        print(\"The shark's skeleton is made of cartilage.\")\n",
    "\n",
    "class Clownfish():\n",
    "    def swim(self):\n",
    "        print(\"The clownfish is swimming.\")\n",
    "    def swim_backwards(self):\n",
    "        print(\"The clownfish can swim backwards.\")\n",
    "    def skeleton(self):\n",
    "        print(\"The clownfish's skeleton is made of bone.\")\n",
    "\n",
    "sammy = Shark()\n",
    "sammy.skeleton()\n",
    "\n",
    "casey = Clownfish()\n",
    "casey.skeleton()"
   ]
  },
  {
   "cell_type": "code",
   "execution_count": 2,
   "metadata": {},
   "outputs": [
    {
     "name": "stdout",
     "output_type": "stream",
     "text": [
      "The shark's skeleton is made of cartilage.\n",
      "The shark is swimming.\n",
      "The clownfish's skeleton is made of bone.\n",
      "The clownfish is swimming.\n"
     ]
    }
   ],
   "source": [
    "#########cara memanggil dg fungsi\n",
    "class Shark(): \n",
    "    def swim(self): \n",
    "        print(\"The shark is swimming.\") \n",
    "    def swim_backwards(self): \n",
    "        print(\"The shark cannot swim backwards, but can sink backwards.\") \n",
    "    def skeleton(self): \n",
    "        print(\"The shark's skeleton is made of cartilage.\") \n",
    "\n",
    "class Clownfish(): \n",
    "    def swim(self): \n",
    "        print(\"The clownfish is swimming.\") \n",
    "    def swim_backwards(self): \n",
    "        print(\"The clownfish can swim backwards.\") \n",
    "    def skeleton(self): \n",
    "        print(\"The clownfish's skeleton is made of bone.\") \n",
    "\n",
    "def in_the_pacific(fish): #ini fungsinya\n",
    "    fish.skeleton()#untuk menampilkan tinggal menambahkan methodny disini\n",
    "    fish.swim()\n",
    "\n",
    "sammy = Shark() \n",
    "casey = Clownfish() \n",
    "\n",
    "in_the_pacific(sammy) #pemanggilan disini\n",
    "in_the_pacific(casey) \n"
   ]
  },
  {
   "cell_type": "code",
   "execution_count": 3,
   "metadata": {},
   "outputs": [
    {
     "name": "stdout",
     "output_type": "stream",
     "text": [
      "The shark is swimming.\n",
      "The shark cannot swim backwards, but can sink backwards.\n",
      "The shark's skeleton is made of cartilage.\n",
      "The clownfish is swimming.\n",
      "The clownfish can swim backwards.\n",
      "The clownfish's skeleton is made of bone.\n"
     ]
    }
   ],
   "source": [
    "########CARA PEMANGGILAN DENGAN METHODE\n",
    "class Shark(): \n",
    "    def swim(self): \n",
    "        print(\"The shark is swimming.\") \n",
    "    def swim_backwards(self): \n",
    "        print(\"The shark cannot swim backwards, but can sink backwards.\") \n",
    "    def skeleton(self): \n",
    "        print(\"The shark's skeleton is made of cartilage.\") \n",
    "\n",
    "class Clownfish(): \n",
    "    def swim(self): \n",
    "        print(\"The clownfish is swimming.\") \n",
    "    def swim_backwards(self): \n",
    "        print(\"The clownfish can swim backwards.\") \n",
    "    def skeleton(self): \n",
    "        print(\"The clownfish's skeleton is made of bone.\") \n",
    "\n",
    "\n",
    "sammy = Shark()\n",
    "casey = Clownfish()\n",
    "\n",
    "for fish in (sammy, casey):\n",
    "    fish.swim()\n",
    "    fish.swim_backwards()\n",
    "    fish.skeleton()"
   ]
  },
  {
   "cell_type": "code",
   "execution_count": 4,
   "metadata": {},
   "outputs": [
    {
     "name": "stdout",
     "output_type": "stream",
     "text": [
      "Document1: Show pdf contents!\n",
      "Document2: Show pdf contents!\n",
      "Document3: Show word contents!\n"
     ]
    }
   ],
   "source": [
    "#ABSTRAK\n",
    "class Document:\n",
    "    def __init__(self, name):\n",
    "        self.name = name\n",
    "\n",
    "    def show(self):\n",
    "        raise NotImplementedError(\"Subclass must implement abstract method\")\n",
    "\n",
    "class Pdf(Document):\n",
    "    def show(self):\n",
    "        return 'Show pdf contents!'\n",
    "\n",
    "class Word(Document):\n",
    "    def show(self):\n",
    "        return 'Show word contents!'\n",
    "\n",
    "documents = [Pdf('Document1'),\n",
    "             Pdf('Document2'),\n",
    "             Word('Document3')]\n",
    "\n",
    "for document in documents:\n",
    "    print(document.name + ': ' + document.show())"
   ]
  },
  {
   "cell_type": "code",
   "execution_count": null,
   "metadata": {},
   "outputs": [],
   "source": [
    "#CLASS ABSTRACK\n",
    "class Car:\n",
    "    def __init__(self, name):\n",
    "        self.name = name\n",
    "\n",
    "    def drive(self):\n",
    "        raise NotImplementedError(\"Subclass must implement abstract method\")\n",
    "\n",
    "    def stop(self):\n",
    "        raise NotImplementedError(\"Subclass must implement abstract method\")\n",
    "\n",
    "class Sportscar(Car):\n",
    "    def drive(self):\n",
    "        return 'Sportscar driving!'\n",
    "\n",
    "    def stop(self):\n",
    "        return 'Sportscar braking!'\n",
    "\n",
    "class Truck(Car):\n",
    "    def drive(self):\n",
    "        return 'Truck driving slowly because heavily loaded.'\n",
    "\n",
    "    def stop(self):\n",
    "        return 'Truck braking!'\n",
    "\n",
    "\n",
    "cars = [Truck('Bananatruck'),\n",
    "        Truck('Orangetruck'),\n",
    "        Sportscar('Z3')]\n",
    "\n",
    "for car in cars:\n",
    "    print(car.name + ': ' + car.drive())"
   ]
  },
  {
   "cell_type": "code",
   "execution_count": null,
   "metadata": {},
   "outputs": [],
   "source": [
    "#LATIHAN\n",
    "class Pegawai:\n",
    "    def __init__(self,nama,salary):\n",
    "        self.nama=nama\n",
    "        self.salary=salary\n",
    "    def gaji(self):\n",
    "        raise NotImplementedError(\"subclass must implement abstract methode\")\n",
    "class Manajer(Pegawai):\n",
    "    def __init__(self,tunjangan,nama,salary):\n",
    "        super().__init__(nama,salary)\n",
    "        self.tunjangan=tunjangan\n",
    "    def gaji(self):\n",
    "        sal=int(self.tunjangan)+int(self.salary)\n",
    "        print(\"Gaji:\",sal)\n",
    "\n",
    "m=Manajer(\"1000\",\"rin\",\"2000\")\n",
    "m.gaji()\n"
   ]
  }
 ],
 "metadata": {
  "kernelspec": {
   "display_name": "Python 3",
   "language": "python",
   "name": "python3"
  },
  "language_info": {
   "codemirror_mode": {
    "name": "ipython",
    "version": 3
   },
   "file_extension": ".py",
   "mimetype": "text/x-python",
   "name": "python",
   "nbconvert_exporter": "python",
   "pygments_lexer": "ipython3",
   "version": "3.6.5"
  }
 },
 "nbformat": 4,
 "nbformat_minor": 2
}
