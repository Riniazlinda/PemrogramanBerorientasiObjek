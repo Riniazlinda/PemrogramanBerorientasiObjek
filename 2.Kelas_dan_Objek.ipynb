{
 "cells": [
  {
   "cell_type": "markdown",
   "metadata": {},
   "source": [
    "                                                        KELAS DAN OBJEK\n",
    "====================================================Kata_Kunci:===================================================\n",
    "Kelas   = cetakan/template dari suatu objek\n",
    "atribut : apa yang dia punya/yg dimiliki objek tsb\n",
    "methode : apa yang bisa dierjakan\n",
    "objek   : sesuatu instansi dari class \n",
    "===================================================Materi==========================================================\n",
    "Kelas:\n",
    "- cetakan/template dari suatu objek\n",
    "- berisikan atribut-atribut yang terdiri dari data dan Fungsi/Methode\n",
    "- untuk mendeklarasikannya menggunakan kata kunci -> class \n",
    "  yang diikuti oleh nama dari kelas yang ingin di buat.\n",
    "  class nama_kelas:\n",
    "      atribut1\n",
    "      atribut2\n",
    "- untuk mengakses dan menampilkan atribut dari suatu kelas dapat dilakukan dg: menggunakan operator keanggotaan(tanda titik) \n",
    "  dengan format nama_kelas.atribut\n",
    "- untuk menciptakan objek suatu kelas cukup menugaskan kelas tersebut kepada suatu variabel.\n",
    "  Misal ingin menciptakan objek dari kelas Mahasiswa dengan nama Mhs maka perintahnya adala Mhs=Mahasiswa()\n",
    "- Metode __init__() adalah metode konstruktor, yaitu metode khusus yang digunakan Python \n",
    "  untuk menginisialisasi pembuatan objek dari kelas tersebut. \n",
    "- Setiap method harus memiliki parameter self yang artinya method tersebut dimiliki dan terdaftar ke class tersebut untuk   membedakan dari method atau fungsi yang ada di luar class\n",
    "Objek:\n",
    "- Mengakses Methode Objek : menggunakan operator titik\n",
    "- Instansiasi Objek (membuat objek dari sebuah kelas): argumen sesuai dengan fungsi __init__() pada saat kita mendefinisikannya "
   ]
  },
  {
   "cell_type": "code",
   "execution_count": 1,
   "metadata": {},
   "outputs": [
    {
     "name": "stdout",
     "output_type": "stream",
     "text": [
      "Nama: Rini \n",
      "Alamat: Bangkalan \n",
      "No.Rekening : 170411100031\n",
      "Saldo Awal: 100000\n",
      "Jumlah uang yang akan ditarik senilai: 2000\n",
      "Sisa saldo saat ini : 98000\n",
      "Jumlah uang yang akan disetor senilai: 300\n",
      "Saldo saat ini :  98300\n"
     ]
    }
   ],
   "source": [
    "#######TUGAS NASABAH\n",
    "\n",
    "class Nasabah:\n",
    "    def __init__(self,name,add,norek):\n",
    "        self.nama=name\n",
    "        self.alamat=add\n",
    "        self.norekening=norek\n",
    "    def show(self):\n",
    "        print(\"Nama:\",self.nama,\"\\nAlamat:\",self.alamat,\"\\nNo.Rekening :\",self.norekening)\n",
    "\n",
    "class Rekening:\n",
    "    def __init__(self,rek,saldo):\n",
    "        self.rekening=rek\n",
    "        self.saldo=saldo\n",
    "    def tampil_saldo(self):\n",
    "        print(\"Saldo Awal:\",self.saldo)\n",
    "    def penarikan(self):\n",
    "        tarik_uang=int(input(\"Jumlah uang yang akan ditarik senilai: \"))\n",
    "        pattern=self.saldo - tarik_uang\n",
    "        self.saldo=pattern\n",
    "        print(\"Sisa saldo saat ini :\",pattern)\n",
    "    def penyetoran(self):\n",
    "        setor_tunai=int(input(\"Jumlah uang yang akan disetor senilai: \"))\n",
    "        pattern=self.saldo + setor_tunai\n",
    "        print(\"Saldo saat ini : \",pattern)\n",
    "\n",
    "rini=Nasabah(\"Rini\",\"Bangkalan\",\"170411100031\")\n",
    "rini.show()\n",
    "\n",
    "rini_rek=Rekening(\"170411100031\", 100000)\n",
    "rini_rek.tampil_saldo()\n",
    "rini_rek.penarikan()\n",
    "rini_rek.penyetoran()"
   ]
  },
  {
   "cell_type": "code",
   "execution_count": 2,
   "metadata": {},
   "outputs": [
    {
     "name": "stdout",
     "output_type": "stream",
     "text": [
      "Nama Kelompok :\n",
      "1. Muhamad Zainul Mustofa (170411100011)\n",
      "2. Rini Azlinda(170411100031)\n",
      "\n",
      "Sekarang Tahun 2018\n",
      "\n",
      "Nama : Muhamad Zainul Mustofa \n",
      "Nim : 170411100011 \n",
      "semester : 3\n"
     ]
    }
   ],
   "source": [
    "###TUGAS MENGHITUNG SEMESTER\n",
    "print('Nama Kelompok :\\n1. Muhamad Zainul Mustofa (170411100011)\\n2. Rini Azlinda(170411100031)')\n",
    "import datetime\n",
    "th=str(datetime.datetime.now().strftime('%Y'))\n",
    "print('\\nSekarang Tahun',th)\n",
    "print()\n",
    "class mahasiswa:\n",
    "    def __init__(self,nama,nim):\n",
    "        self.n=nama\n",
    "        self.nim=nim\n",
    "    def hitung(self,th):\n",
    "        nrp=str(self.nim)\n",
    "        smtr=((int(th[2:])*2)-(int(nrp[0:2])*2))+1\n",
    "        print('Nama :',self.n,'\\nNim :',self.nim,'\\nsemester :',smtr)\n",
    "\n",
    "mh=mahasiswa('Muhamad Zainul Mustofa',170411100011)\n",
    "mh.hitung(th)"
   ]
  },
  {
   "cell_type": "code",
   "execution_count": null,
   "metadata": {},
   "outputs": [],
   "source": []
  }
 ],
 "metadata": {
  "kernelspec": {
   "display_name": "Python 3",
   "language": "python",
   "name": "python3"
  },
  "language_info": {
   "codemirror_mode": {
    "name": "ipython",
    "version": 3
   },
   "file_extension": ".py",
   "mimetype": "text/x-python",
   "name": "python",
   "nbconvert_exporter": "python",
   "pygments_lexer": "ipython3",
   "version": "3.6.5"
  }
 },
 "nbformat": 4,
 "nbformat_minor": 2
}
