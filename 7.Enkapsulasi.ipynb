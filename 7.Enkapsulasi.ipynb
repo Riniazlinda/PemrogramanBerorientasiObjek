{
 "cells": [
  {
   "cell_type": "markdown",
   "metadata": {},
   "source": [
    "                            ENKAPSULASI\n",
    "-Konsep ini mengizinkan suatu data di dalam kelas bisa diakses atau tidak oleh objek-objek di luar kelas tersebut.\n",
    "\n",
    "-Atribut privat dan public merupakan istilah dalam OOP untuk mengimplementasikan konsep enkapsulasi.\n",
    "\n",
    "-Atribut atau Methode public dapat di akses di luar kelas.\n",
    "\n",
    "-Atribut dan Methode private hanya dapat diakses di dalam kelas itu sendiri.\n",
    "*Agar atribut dan Methode Private dapat diakses di luar kelas maka harus di jadikan atribut Public dengan cara Enkapsulasi\n",
    "\n",
    "-ciri Atribut public: namaVariabel\n",
    "-ciri Atribut Private(diawali double underscore): __namaVariabel\n",
    "\n",
    "*Cara untuk Mengaksesnya seperti contoh di bawah ini :"
   ]
  },
  {
   "cell_type": "code",
   "execution_count": 1,
   "metadata": {},
   "outputs": [
    {
     "name": "stdout",
     "output_type": "stream",
     "text": [
      "The fish can swim backwards.\n",
      "The fish is swimming.\n",
      "The fish can swim backwards.\n"
     ]
    }
   ],
   "source": [
    "\"\"\"===========CONTOH METHODE PRIVATE============\"\"\"\n",
    "class Fish:\n",
    "    def __init__(self):\n",
    "        self.__swimbackwards()\n",
    "    def swim(self):\n",
    "        print(\"The fish is swimming.\")\n",
    "    def __swimbackwards(self):\n",
    "        print(\"The fish can swim backwards.\") \n",
    "\n",
    "#CARA MENGAKSESNYA\n",
    "ikan=Fish()\n",
    "ikan.swim()\n",
    "ikan._Fish__swimbackwards()"
   ]
  },
  {
   "cell_type": "code",
   "execution_count": 2,
   "metadata": {},
   "outputs": [
    {
     "name": "stdout",
     "output_type": "stream",
     "text": [
      "hiuis swimming.\n",
      "hiuis swimming.\n"
     ]
    }
   ],
   "source": [
    "\"\"\"===========CONTOH ATRIBUT PRIVATE============\"\"\"\n",
    "class Fish:\n",
    "    __name=\"\"\n",
    "    def __init__(self):\n",
    "        self.__name=\"hiu\"\n",
    "\n",
    "    def swim(self):\n",
    "        print(str(self.__name)+\"is swimming.\")\n",
    "\n",
    "#CARA MENGAKSESNYA\n",
    "f=Fish()\n",
    "f.swim()\n",
    "f.__name= \"hiu\"\n",
    "f.swim()"
   ]
  },
  {
   "cell_type": "code",
   "execution_count": null,
   "metadata": {},
   "outputs": [],
   "source": []
  }
 ],
 "metadata": {
  "kernelspec": {
   "display_name": "Python 3",
   "language": "python",
   "name": "python3"
  },
  "language_info": {
   "codemirror_mode": {
    "name": "ipython",
    "version": 3
   },
   "file_extension": ".py",
   "mimetype": "text/x-python",
   "name": "python",
   "nbconvert_exporter": "python",
   "pygments_lexer": "ipython3",
   "version": "3.6.5"
  }
 },
 "nbformat": 4,
 "nbformat_minor": 2
}
