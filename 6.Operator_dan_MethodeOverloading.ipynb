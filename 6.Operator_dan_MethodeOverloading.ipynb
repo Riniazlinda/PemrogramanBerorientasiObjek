{
 "cells": [
  {
   "attachments": {},
   "cell_type": "markdown",
   "metadata": {},
   "source": [
    "                                            OVERLOADING\n",
    "-Overloading berarti Menuliskan kembali method dengan nama yang sama pada suatu class. tujuannya adalah memudahkan penggunaan/pemanggilan method dengan fungsionalitas yang mirip.\n",
    "\n",
    "-Overloading juga merupakan salah satu konsep dalam pemrogramaan berorientasi objek dimana dalam suatu class terdapat method dengan nama yang sama namun tetapi memiliki berbagai fungsi yang berbeda, tergantung dari parameter yang digunakan.\n",
    "\n",
    "-Dalam kode di bawah ini kami telah mendefinisikan dua metode produk, tetapi kami hanya dapat menggunakan metode produk kedua, karena python tidak mendukung metode overloading. Kami dapat mendefinisikan banyak metode dengan nama yang sama dan argumen yang berbeda tetapi kami hanya dapat menggunakan metode terbaru yang ditentukan. Memanggil metode lain akan menghasilkan kesalahan. Seperti di sini, produk panggilan (4, 5) akan menghasilkan kesalahan karena metode produk yang ditentukan terakhir membutuhkan tiga argumen.\n",
    "\n",
    "-Namun kami dapat menggunakan implementasi lain dalam python untuk membuat fungsi yang sama bekerja secara berbeda yaitu sesuai argumen.\n",
    "*seperti contoh dibawah:"
   ]
  },
  {
   "cell_type": "code",
   "execution_count": 1,
   "metadata": {},
   "outputs": [
    {
     "ename": "TypeError",
     "evalue": "product() missing 1 required positional argument: 'c'",
     "output_type": "error",
     "traceback": [
      "\u001b[1;31m---------------------------------------------------------------------------\u001b[0m",
      "\u001b[1;31mTypeError\u001b[0m                                 Traceback (most recent call last)",
      "\u001b[1;32m<ipython-input-1-6f387f1bec98>\u001b[0m in \u001b[0;36m<module>\u001b[1;34m()\u001b[0m\n\u001b[0;32m      8\u001b[0m     \u001b[0mprint\u001b[0m\u001b[1;33m(\u001b[0m\u001b[0mp\u001b[0m\u001b[1;33m)\u001b[0m\u001b[1;33m\u001b[0m\u001b[0m\n\u001b[0;32m      9\u001b[0m \u001b[1;33m\u001b[0m\u001b[0m\n\u001b[1;32m---> 10\u001b[1;33m \u001b[0mproduct\u001b[0m\u001b[1;33m(\u001b[0m\u001b[1;36m4\u001b[0m\u001b[1;33m,\u001b[0m \u001b[1;36m5\u001b[0m\u001b[1;33m)\u001b[0m\u001b[1;33m\u001b[0m\u001b[0m\n\u001b[0m\u001b[0;32m     11\u001b[0m \u001b[1;33m\u001b[0m\u001b[0m\n\u001b[0;32m     12\u001b[0m \u001b[0mproduct\u001b[0m\u001b[1;33m(\u001b[0m\u001b[1;36m4\u001b[0m\u001b[1;33m,\u001b[0m \u001b[1;36m5\u001b[0m\u001b[1;33m,\u001b[0m \u001b[1;36m5\u001b[0m\u001b[1;33m)\u001b[0m\u001b[1;33m\u001b[0m\u001b[0m\n",
      "\u001b[1;31mTypeError\u001b[0m: product() missing 1 required positional argument: 'c'"
     ]
    }
   ],
   "source": [
    "def product(a, b):\n",
    "    p = a * b\n",
    "    print(p)\n",
    "\n",
    "\n",
    "def product(a, b, c):\n",
    "    p = a * b*c\n",
    "    print(p)\n",
    "\n",
    "product(4, 5)\n",
    "\n",
    "product(4, 5, 5)"
   ]
  },
  {
   "cell_type": "code",
   "execution_count": null,
   "metadata": {},
   "outputs": [],
   "source": [
    "\"\"\"================METHODE OVERLOADING==========================\"\"\"\n",
    "def add(a,b):\n",
    "    return a+b\n",
    "def add(a,b,c):\n",
    "    return a+b+c\n",
    "print(add(2,3))\n",
    "\"\"\"================METHODE OVERLOADING==========================\"\"\"\n",
    "def add(a,b):\n",
    "    return a+b\n",
    "def add(a,b,c):\n",
    "    return a+b+c\n",
    "print(add(2,3,5))"
   ]
  },
  {
   "cell_type": "code",
   "execution_count": 3,
   "metadata": {},
   "outputs": [
    {
     "name": "stdout",
     "output_type": "stream",
     "text": [
      "11\n",
      "Hi Geeks\n"
     ]
    }
   ],
   "source": [
    "\"\"\"================CONTOH METHODE OVERLOADING==========================\"\"\"\n",
    "def add(datatype, *args):\n",
    "\n",
    "\n",
    "    if datatype =='int':\n",
    "        answer = 0\n",
    "\n",
    "\n",
    "    if datatype =='str':\n",
    "        answer =''\n",
    "\n",
    "\n",
    "    for x in args:\n",
    "\n",
    "        answer = answer + x\n",
    "\n",
    "    print(answer)\n",
    "\n",
    "# Integer\n",
    "add('int', 5, 6)\n",
    "\n",
    "# String\n",
    "add('str', 'Hi ', 'Geeks')"
   ]
  },
  {
   "cell_type": "code",
   "execution_count": 6,
   "metadata": {},
   "outputs": [
    {
     "name": "stdout",
     "output_type": "stream",
     "text": [
      "Hello \n",
      "Hello Guido\n"
     ]
    }
   ],
   "source": [
    "\"\"\"================CONTOH METHODE OVERLOADING==========================\"\"\"\n",
    "class Human:\n",
    "    def sayHello(self, name=None):\n",
    "        if name is not None:\n",
    "            print('Hello ' + name)\n",
    "        else:\n",
    "            print('Hello ')\n",
    "# Create instance\n",
    "obj = Human()\n",
    "\n",
    "# Call the method\n",
    "obj.sayHello()\n",
    "\n",
    "# Call the method with a parameter\n",
    "obj.sayHello('Guido')"
   ]
  },
  {
   "cell_type": "code",
   "execution_count": null,
   "metadata": {},
   "outputs": [],
   "source": [
    "\"\"\"================CONTOH METHODE OVERLOADING==========================\"\"\"\n",
    "class Point:\n",
    "    def __init__(self, x = 0, y = 0):\n",
    "        self.x = x\n",
    "        self.y = y\n",
    "    #def __str__(self):\n",
    "    #   return \"({0},{1})\".format(self.x,self.y)\n",
    "    def __str__(self):\n",
    "        return \"Point object is at: (\" + str(self.x) + \", \" + str(self.y) + \")\"\n",
    "    def __sub__(self,other):\n",
    "        x = self.x - other.x\n",
    "        y = self.y - other.y\n",
    "        return Point(x,y)\n",
    "p1 = Point(2,3)\n",
    "p2 = Point(-1,2)\n",
    "print(p1 - p2)// p1.__add__(p2)"
   ]
  },
  {
   "cell_type": "code",
   "execution_count": 9,
   "metadata": {},
   "outputs": [
    {
     "ename": "IndentationError",
     "evalue": "unindent does not match any outer indentation level (<ipython-input-9-03fad8ea8476>, line 9)",
     "output_type": "error",
     "traceback": [
      "\u001b[1;36m  File \u001b[1;32m\"<ipython-input-9-03fad8ea8476>\"\u001b[1;36m, line \u001b[1;32m9\u001b[0m\n\u001b[1;33m    def __str__(self):\u001b[0m\n\u001b[1;37m                      ^\u001b[0m\n\u001b[1;31mIndentationError\u001b[0m\u001b[1;31m:\u001b[0m unindent does not match any outer indentation level\n"
     ]
    }
   ],
   "source": [
    "class Fraction:\n",
    "\n",
    "    def __init__(self,top,bottom):\n",
    "\n",
    "        self.num = top\n",
    "        self.den = bottom\n",
    "    #def show(self):\n",
    "    #    print(self.num,\"/\",self.den)\n",
    "  def __str__(self):\n",
    "        return str(self.num)+\"/\"+str(self.den)\n",
    "   f=Fration(2,4)\n",
    "Show(f)\n",
    " print(f)\n",
    "def __add__(self,otherfraction):\n",
    "\n",
    "        newnum = self.num*otherfraction.den + self.den*otherfraction.num\n",
    "        newden = self.den * otherfraction.den\n",
    "\n",
    "        return Fraction(newnum,newden)\n",
    "f1 = Fraction(1,4)\n",
    "f2 = Fraction(1,2)\n",
    "print(f1+f2)"
   ]
  },
  {
   "cell_type": "code",
   "execution_count": null,
   "metadata": {},
   "outputs": [],
   "source": []
  }
 ],
 "metadata": {
  "kernelspec": {
   "display_name": "Python 3",
   "language": "python",
   "name": "python3"
  },
  "language_info": {
   "codemirror_mode": {
    "name": "ipython",
    "version": 3
   },
   "file_extension": ".py",
   "mimetype": "text/x-python",
   "name": "python",
   "nbconvert_exporter": "python",
   "pygments_lexer": "ipython3",
   "version": "3.6.5"
  }
 },
 "nbformat": 4,
 "nbformat_minor": 2
}
